{
  "nbformat": 4,
  "nbformat_minor": 0,
  "metadata": {
    "colab": {
      "provenance": [],
      "authorship_tag": "ABX9TyPqtUaN4NaEPcdVvtzojw0S",
      "include_colab_link": true
    },
    "kernelspec": {
      "name": "python3",
      "display_name": "Python 3"
    },
    "language_info": {
      "name": "python"
    }
  },
  "cells": [
    {
      "cell_type": "markdown",
      "metadata": {
        "id": "view-in-github",
        "colab_type": "text"
      },
      "source": [
        "<a href=\"https://colab.research.google.com/github/JuliusR8ll/Complete-Feature-Selection/blob/master/MLA_3.ipynb\" target=\"_parent\"><img src=\"https://colab.research.google.com/assets/colab-badge.svg\" alt=\"Open In Colab\"/></a>"
      ]
    },
    {
      "cell_type": "code",
      "execution_count": 1,
      "metadata": {
        "id": "cyaOS-a_TmSo"
      },
      "outputs": [],
      "source": [
        "import numpy as np\n",
        "import pandas as pd"
      ]
    },
    {
      "cell_type": "code",
      "source": [
        "dataset = pd.read_csv(\"/content/all_data.csv\",header = None)"
      ],
      "metadata": {
        "id": "xuugqiZlUIB9"
      },
      "execution_count": 2,
      "outputs": []
    },
    {
      "cell_type": "code",
      "source": [
        "X = dataset.iloc[:,:-1].values\n",
        "y = dataset.iloc[:,-1].values"
      ],
      "metadata": {
        "id": "J2hBTew7XBVS"
      },
      "execution_count": 3,
      "outputs": []
    },
    {
      "cell_type": "code",
      "source": [
        "X"
      ],
      "metadata": {
        "colab": {
          "base_uri": "https://localhost:8080/"
        },
        "id": "Ku4muAI8Xd6I",
        "outputId": "07848cf5-11df-47c2-b049-9f8f60162ad4"
      },
      "execution_count": 4,
      "outputs": [
        {
          "output_type": "execute_result",
          "data": {
            "text/plain": [
              "array([[-1.3326e-04,  2.6177e-04,  1.0993e-03, ...,  5.6249e-01,\n",
              "         1.5705e+00,  7.9906e-01],\n",
              "       [-8.4179e-04, -1.0111e-03, -1.0707e-03, ...,  6.1034e-01,\n",
              "         1.6645e+00,  7.4574e-01],\n",
              "       [-7.6610e-04, -5.3523e-04,  1.6161e-04, ...,  4.5707e-01,\n",
              "         1.3386e+00,  7.4574e-01],\n",
              "       ...,\n",
              "       [-5.1139e-04, -1.3700e-03, -2.7686e-03, ...,  8.3218e-01,\n",
              "         2.4844e+00,  2.3322e+00],\n",
              "       [-8.8029e-04, -1.7339e-03, -3.0952e-03, ...,  8.0723e-01,\n",
              "         2.5448e+00,  2.6716e+00],\n",
              "       [-1.5990e-03, -1.0844e-03,  4.6462e-04, ...,  8.2323e-01,\n",
              "         2.3979e+00,  2.3577e+00]])"
            ]
          },
          "metadata": {},
          "execution_count": 4
        }
      ]
    },
    {
      "cell_type": "code",
      "source": [
        "X = np.array(X).T"
      ],
      "metadata": {
        "id": "7iAQ-nnIXOAj"
      },
      "execution_count": 5,
      "outputs": []
    },
    {
      "cell_type": "code",
      "source": [
        "X"
      ],
      "metadata": {
        "colab": {
          "base_uri": "https://localhost:8080/"
        },
        "id": "HOJs-dfxXZWU",
        "outputId": "4d6bd364-df8e-4375-8abd-f99342a72bb1"
      },
      "execution_count": 6,
      "outputs": [
        {
          "output_type": "execute_result",
          "data": {
            "text/plain": [
              "array([[-1.3326e-04, -8.4179e-04, -7.6610e-04, ..., -5.1139e-04,\n",
              "        -8.8029e-04, -1.5990e-03],\n",
              "       [ 2.6177e-04, -1.0111e-03, -5.3523e-04, ..., -1.3700e-03,\n",
              "        -1.7339e-03, -1.0844e-03],\n",
              "       [ 1.0993e-03, -1.0707e-03,  1.6161e-04, ..., -2.7686e-03,\n",
              "        -3.0952e-03,  4.6462e-04],\n",
              "       ...,\n",
              "       [ 5.6249e-01,  6.1034e-01,  4.5707e-01, ...,  8.3218e-01,\n",
              "         8.0723e-01,  8.2323e-01],\n",
              "       [ 1.5705e+00,  1.6645e+00,  1.3386e+00, ...,  2.4844e+00,\n",
              "         2.5448e+00,  2.3979e+00],\n",
              "       [ 7.9906e-01,  7.4574e-01,  7.4574e-01, ...,  2.3322e+00,\n",
              "         2.6716e+00,  2.3577e+00]])"
            ]
          },
          "metadata": {},
          "execution_count": 6
        }
      ]
    },
    {
      "cell_type": "code",
      "source": [
        "X = pd.DataFrame(X)"
      ],
      "metadata": {
        "id": "811Qoo8LX2qR"
      },
      "execution_count": 7,
      "outputs": []
    },
    {
      "cell_type": "code",
      "source": [
        "X[0]"
      ],
      "metadata": {
        "colab": {
          "base_uri": "https://localhost:8080/"
        },
        "id": "fCE_XXMQYmTS",
        "outputId": "36a8daf8-79a3-467c-f9eb-35cea2b2609c"
      },
      "execution_count": 8,
      "outputs": [
        {
          "output_type": "execute_result",
          "data": {
            "text/plain": [
              "0     -0.000133\n",
              "1      0.000262\n",
              "2      0.001099\n",
              "3      0.001834\n",
              "4      0.002109\n",
              "         ...   \n",
              "531    0.742470\n",
              "532    0.225070\n",
              "533    0.562490\n",
              "534    1.570500\n",
              "535    0.799060\n",
              "Name: 0, Length: 536, dtype: float64"
            ]
          },
          "metadata": {},
          "execution_count": 8
        }
      ]
    },
    {
      "cell_type": "code",
      "source": [
        "X.describe()"
      ],
      "metadata": {
        "colab": {
          "base_uri": "https://localhost:8080/",
          "height": 393
        },
        "id": "JJ1Qhx2bXaon",
        "outputId": "82cb2e5a-0e1a-4487-8d8b-4f39612db592"
      },
      "execution_count": 9,
      "outputs": [
        {
          "output_type": "execute_result",
          "data": {
            "text/plain": [
              "              0           1           2           3           4           5    \\\n",
              "count  536.000000  536.000000  536.000000  536.000000  536.000000  536.000000   \n",
              "mean     0.025111    0.025813    0.024400    0.025106    0.024145    0.023868   \n",
              "std      0.234115    0.243869    0.238624    0.248882    0.244564    0.246637   \n",
              "min     -0.026893   -0.021074   -0.029054   -0.021758   -0.022622   -0.024228   \n",
              "25%     -0.000102   -0.000056   -0.000059   -0.000182   -0.000088   -0.000101   \n",
              "50%      0.000027    0.000031    0.000020   -0.000001    0.000009    0.000013   \n",
              "75%      0.000463    0.000569    0.000492    0.000117    0.000248    0.000123   \n",
              "max      3.755700    3.987700    3.974900    3.920500    3.766700    4.113400   \n",
              "\n",
              "              6           7           8           9    ...         220  \\\n",
              "count  536.000000  536.000000  536.000000  536.000000  ...  536.000000   \n",
              "mean     0.028022    0.027250    0.026872    0.028124  ...    0.030772   \n",
              "std      0.248439    0.257881    0.247372    0.254065  ...    0.257454   \n",
              "min     -0.016639   -0.025508   -0.026207   -0.020987  ...   -0.006483   \n",
              "25%     -0.000127   -0.000095   -0.000109   -0.000136  ...   -0.000211   \n",
              "50%      0.000014    0.000016    0.000019    0.000007  ...    0.000013   \n",
              "75%      0.000391    0.000300    0.000404    0.000306  ...    0.000267   \n",
              "max      3.541700    3.850600    3.731600    3.841300  ...    3.475200   \n",
              "\n",
              "              221         222         223         224         225         226  \\\n",
              "count  536.000000  536.000000  536.000000  536.000000  536.000000  536.000000   \n",
              "mean     0.032996    0.033013    0.035067    0.034949    0.034311    0.031896   \n",
              "std      0.276977    0.278050    0.294411    0.291005    0.289178    0.269156   \n",
              "min     -0.007598   -0.007825   -0.010164   -0.009480   -0.010830   -0.004494   \n",
              "25%     -0.000281   -0.000170   -0.000251   -0.000204   -0.000243   -0.000101   \n",
              "50%      0.000011    0.000015    0.000032    0.000033    0.000030    0.000010   \n",
              "75%      0.000420    0.000286    0.000562    0.000424    0.000378    0.000197   \n",
              "max      3.811600    3.746700    3.887000    3.645600    3.840500    3.704900   \n",
              "\n",
              "              227         228         229  \n",
              "count  536.000000  536.000000  536.000000  \n",
              "mean     0.032878    0.034118    0.031896  \n",
              "std      0.277077    0.288634    0.269156  \n",
              "min     -0.003721   -0.006268   -0.004494  \n",
              "25%     -0.000265   -0.000546   -0.000101  \n",
              "50%     -0.000008    0.000001    0.000010  \n",
              "75%      0.000113    0.000236    0.000197  \n",
              "max      3.590500    3.959800    3.704900  \n",
              "\n",
              "[8 rows x 230 columns]"
            ],
            "text/html": [
              "\n",
              "  <div id=\"df-62231e5a-82d1-4adc-90f0-39f8c5f0c471\">\n",
              "    <div class=\"colab-df-container\">\n",
              "      <div>\n",
              "<style scoped>\n",
              "    .dataframe tbody tr th:only-of-type {\n",
              "        vertical-align: middle;\n",
              "    }\n",
              "\n",
              "    .dataframe tbody tr th {\n",
              "        vertical-align: top;\n",
              "    }\n",
              "\n",
              "    .dataframe thead th {\n",
              "        text-align: right;\n",
              "    }\n",
              "</style>\n",
              "<table border=\"1\" class=\"dataframe\">\n",
              "  <thead>\n",
              "    <tr style=\"text-align: right;\">\n",
              "      <th></th>\n",
              "      <th>0</th>\n",
              "      <th>1</th>\n",
              "      <th>2</th>\n",
              "      <th>3</th>\n",
              "      <th>4</th>\n",
              "      <th>5</th>\n",
              "      <th>6</th>\n",
              "      <th>7</th>\n",
              "      <th>8</th>\n",
              "      <th>9</th>\n",
              "      <th>...</th>\n",
              "      <th>220</th>\n",
              "      <th>221</th>\n",
              "      <th>222</th>\n",
              "      <th>223</th>\n",
              "      <th>224</th>\n",
              "      <th>225</th>\n",
              "      <th>226</th>\n",
              "      <th>227</th>\n",
              "      <th>228</th>\n",
              "      <th>229</th>\n",
              "    </tr>\n",
              "  </thead>\n",
              "  <tbody>\n",
              "    <tr>\n",
              "      <th>count</th>\n",
              "      <td>536.000000</td>\n",
              "      <td>536.000000</td>\n",
              "      <td>536.000000</td>\n",
              "      <td>536.000000</td>\n",
              "      <td>536.000000</td>\n",
              "      <td>536.000000</td>\n",
              "      <td>536.000000</td>\n",
              "      <td>536.000000</td>\n",
              "      <td>536.000000</td>\n",
              "      <td>536.000000</td>\n",
              "      <td>...</td>\n",
              "      <td>536.000000</td>\n",
              "      <td>536.000000</td>\n",
              "      <td>536.000000</td>\n",
              "      <td>536.000000</td>\n",
              "      <td>536.000000</td>\n",
              "      <td>536.000000</td>\n",
              "      <td>536.000000</td>\n",
              "      <td>536.000000</td>\n",
              "      <td>536.000000</td>\n",
              "      <td>536.000000</td>\n",
              "    </tr>\n",
              "    <tr>\n",
              "      <th>mean</th>\n",
              "      <td>0.025111</td>\n",
              "      <td>0.025813</td>\n",
              "      <td>0.024400</td>\n",
              "      <td>0.025106</td>\n",
              "      <td>0.024145</td>\n",
              "      <td>0.023868</td>\n",
              "      <td>0.028022</td>\n",
              "      <td>0.027250</td>\n",
              "      <td>0.026872</td>\n",
              "      <td>0.028124</td>\n",
              "      <td>...</td>\n",
              "      <td>0.030772</td>\n",
              "      <td>0.032996</td>\n",
              "      <td>0.033013</td>\n",
              "      <td>0.035067</td>\n",
              "      <td>0.034949</td>\n",
              "      <td>0.034311</td>\n",
              "      <td>0.031896</td>\n",
              "      <td>0.032878</td>\n",
              "      <td>0.034118</td>\n",
              "      <td>0.031896</td>\n",
              "    </tr>\n",
              "    <tr>\n",
              "      <th>std</th>\n",
              "      <td>0.234115</td>\n",
              "      <td>0.243869</td>\n",
              "      <td>0.238624</td>\n",
              "      <td>0.248882</td>\n",
              "      <td>0.244564</td>\n",
              "      <td>0.246637</td>\n",
              "      <td>0.248439</td>\n",
              "      <td>0.257881</td>\n",
              "      <td>0.247372</td>\n",
              "      <td>0.254065</td>\n",
              "      <td>...</td>\n",
              "      <td>0.257454</td>\n",
              "      <td>0.276977</td>\n",
              "      <td>0.278050</td>\n",
              "      <td>0.294411</td>\n",
              "      <td>0.291005</td>\n",
              "      <td>0.289178</td>\n",
              "      <td>0.269156</td>\n",
              "      <td>0.277077</td>\n",
              "      <td>0.288634</td>\n",
              "      <td>0.269156</td>\n",
              "    </tr>\n",
              "    <tr>\n",
              "      <th>min</th>\n",
              "      <td>-0.026893</td>\n",
              "      <td>-0.021074</td>\n",
              "      <td>-0.029054</td>\n",
              "      <td>-0.021758</td>\n",
              "      <td>-0.022622</td>\n",
              "      <td>-0.024228</td>\n",
              "      <td>-0.016639</td>\n",
              "      <td>-0.025508</td>\n",
              "      <td>-0.026207</td>\n",
              "      <td>-0.020987</td>\n",
              "      <td>...</td>\n",
              "      <td>-0.006483</td>\n",
              "      <td>-0.007598</td>\n",
              "      <td>-0.007825</td>\n",
              "      <td>-0.010164</td>\n",
              "      <td>-0.009480</td>\n",
              "      <td>-0.010830</td>\n",
              "      <td>-0.004494</td>\n",
              "      <td>-0.003721</td>\n",
              "      <td>-0.006268</td>\n",
              "      <td>-0.004494</td>\n",
              "    </tr>\n",
              "    <tr>\n",
              "      <th>25%</th>\n",
              "      <td>-0.000102</td>\n",
              "      <td>-0.000056</td>\n",
              "      <td>-0.000059</td>\n",
              "      <td>-0.000182</td>\n",
              "      <td>-0.000088</td>\n",
              "      <td>-0.000101</td>\n",
              "      <td>-0.000127</td>\n",
              "      <td>-0.000095</td>\n",
              "      <td>-0.000109</td>\n",
              "      <td>-0.000136</td>\n",
              "      <td>...</td>\n",
              "      <td>-0.000211</td>\n",
              "      <td>-0.000281</td>\n",
              "      <td>-0.000170</td>\n",
              "      <td>-0.000251</td>\n",
              "      <td>-0.000204</td>\n",
              "      <td>-0.000243</td>\n",
              "      <td>-0.000101</td>\n",
              "      <td>-0.000265</td>\n",
              "      <td>-0.000546</td>\n",
              "      <td>-0.000101</td>\n",
              "    </tr>\n",
              "    <tr>\n",
              "      <th>50%</th>\n",
              "      <td>0.000027</td>\n",
              "      <td>0.000031</td>\n",
              "      <td>0.000020</td>\n",
              "      <td>-0.000001</td>\n",
              "      <td>0.000009</td>\n",
              "      <td>0.000013</td>\n",
              "      <td>0.000014</td>\n",
              "      <td>0.000016</td>\n",
              "      <td>0.000019</td>\n",
              "      <td>0.000007</td>\n",
              "      <td>...</td>\n",
              "      <td>0.000013</td>\n",
              "      <td>0.000011</td>\n",
              "      <td>0.000015</td>\n",
              "      <td>0.000032</td>\n",
              "      <td>0.000033</td>\n",
              "      <td>0.000030</td>\n",
              "      <td>0.000010</td>\n",
              "      <td>-0.000008</td>\n",
              "      <td>0.000001</td>\n",
              "      <td>0.000010</td>\n",
              "    </tr>\n",
              "    <tr>\n",
              "      <th>75%</th>\n",
              "      <td>0.000463</td>\n",
              "      <td>0.000569</td>\n",
              "      <td>0.000492</td>\n",
              "      <td>0.000117</td>\n",
              "      <td>0.000248</td>\n",
              "      <td>0.000123</td>\n",
              "      <td>0.000391</td>\n",
              "      <td>0.000300</td>\n",
              "      <td>0.000404</td>\n",
              "      <td>0.000306</td>\n",
              "      <td>...</td>\n",
              "      <td>0.000267</td>\n",
              "      <td>0.000420</td>\n",
              "      <td>0.000286</td>\n",
              "      <td>0.000562</td>\n",
              "      <td>0.000424</td>\n",
              "      <td>0.000378</td>\n",
              "      <td>0.000197</td>\n",
              "      <td>0.000113</td>\n",
              "      <td>0.000236</td>\n",
              "      <td>0.000197</td>\n",
              "    </tr>\n",
              "    <tr>\n",
              "      <th>max</th>\n",
              "      <td>3.755700</td>\n",
              "      <td>3.987700</td>\n",
              "      <td>3.974900</td>\n",
              "      <td>3.920500</td>\n",
              "      <td>3.766700</td>\n",
              "      <td>4.113400</td>\n",
              "      <td>3.541700</td>\n",
              "      <td>3.850600</td>\n",
              "      <td>3.731600</td>\n",
              "      <td>3.841300</td>\n",
              "      <td>...</td>\n",
              "      <td>3.475200</td>\n",
              "      <td>3.811600</td>\n",
              "      <td>3.746700</td>\n",
              "      <td>3.887000</td>\n",
              "      <td>3.645600</td>\n",
              "      <td>3.840500</td>\n",
              "      <td>3.704900</td>\n",
              "      <td>3.590500</td>\n",
              "      <td>3.959800</td>\n",
              "      <td>3.704900</td>\n",
              "    </tr>\n",
              "  </tbody>\n",
              "</table>\n",
              "<p>8 rows × 230 columns</p>\n",
              "</div>\n",
              "      <button class=\"colab-df-convert\" onclick=\"convertToInteractive('df-62231e5a-82d1-4adc-90f0-39f8c5f0c471')\"\n",
              "              title=\"Convert this dataframe to an interactive table.\"\n",
              "              style=\"display:none;\">\n",
              "        \n",
              "  <svg xmlns=\"http://www.w3.org/2000/svg\" height=\"24px\"viewBox=\"0 0 24 24\"\n",
              "       width=\"24px\">\n",
              "    <path d=\"M0 0h24v24H0V0z\" fill=\"none\"/>\n",
              "    <path d=\"M18.56 5.44l.94 2.06.94-2.06 2.06-.94-2.06-.94-.94-2.06-.94 2.06-2.06.94zm-11 1L8.5 8.5l.94-2.06 2.06-.94-2.06-.94L8.5 2.5l-.94 2.06-2.06.94zm10 10l.94 2.06.94-2.06 2.06-.94-2.06-.94-.94-2.06-.94 2.06-2.06.94z\"/><path d=\"M17.41 7.96l-1.37-1.37c-.4-.4-.92-.59-1.43-.59-.52 0-1.04.2-1.43.59L10.3 9.45l-7.72 7.72c-.78.78-.78 2.05 0 2.83L4 21.41c.39.39.9.59 1.41.59.51 0 1.02-.2 1.41-.59l7.78-7.78 2.81-2.81c.8-.78.8-2.07 0-2.86zM5.41 20L4 18.59l7.72-7.72 1.47 1.35L5.41 20z\"/>\n",
              "  </svg>\n",
              "      </button>\n",
              "      \n",
              "  <style>\n",
              "    .colab-df-container {\n",
              "      display:flex;\n",
              "      flex-wrap:wrap;\n",
              "      gap: 12px;\n",
              "    }\n",
              "\n",
              "    .colab-df-convert {\n",
              "      background-color: #E8F0FE;\n",
              "      border: none;\n",
              "      border-radius: 50%;\n",
              "      cursor: pointer;\n",
              "      display: none;\n",
              "      fill: #1967D2;\n",
              "      height: 32px;\n",
              "      padding: 0 0 0 0;\n",
              "      width: 32px;\n",
              "    }\n",
              "\n",
              "    .colab-df-convert:hover {\n",
              "      background-color: #E2EBFA;\n",
              "      box-shadow: 0px 1px 2px rgba(60, 64, 67, 0.3), 0px 1px 3px 1px rgba(60, 64, 67, 0.15);\n",
              "      fill: #174EA6;\n",
              "    }\n",
              "\n",
              "    [theme=dark] .colab-df-convert {\n",
              "      background-color: #3B4455;\n",
              "      fill: #D2E3FC;\n",
              "    }\n",
              "\n",
              "    [theme=dark] .colab-df-convert:hover {\n",
              "      background-color: #434B5C;\n",
              "      box-shadow: 0px 1px 3px 1px rgba(0, 0, 0, 0.15);\n",
              "      filter: drop-shadow(0px 1px 2px rgba(0, 0, 0, 0.3));\n",
              "      fill: #FFFFFF;\n",
              "    }\n",
              "  </style>\n",
              "\n",
              "      <script>\n",
              "        const buttonEl =\n",
              "          document.querySelector('#df-62231e5a-82d1-4adc-90f0-39f8c5f0c471 button.colab-df-convert');\n",
              "        buttonEl.style.display =\n",
              "          google.colab.kernel.accessAllowed ? 'block' : 'none';\n",
              "\n",
              "        async function convertToInteractive(key) {\n",
              "          const element = document.querySelector('#df-62231e5a-82d1-4adc-90f0-39f8c5f0c471');\n",
              "          const dataTable =\n",
              "            await google.colab.kernel.invokeFunction('convertToInteractive',\n",
              "                                                     [key], {});\n",
              "          if (!dataTable) return;\n",
              "\n",
              "          const docLinkHtml = 'Like what you see? Visit the ' +\n",
              "            '<a target=\"_blank\" href=https://colab.research.google.com/notebooks/data_table.ipynb>data table notebook</a>'\n",
              "            + ' to learn more about interactive tables.';\n",
              "          element.innerHTML = '';\n",
              "          dataTable['output_type'] = 'display_data';\n",
              "          await google.colab.output.renderOutput(dataTable, element);\n",
              "          const docLink = document.createElement('div');\n",
              "          docLink.innerHTML = docLinkHtml;\n",
              "          element.appendChild(docLink);\n",
              "        }\n",
              "      </script>\n",
              "    </div>\n",
              "  </div>\n",
              "  "
            ]
          },
          "metadata": {},
          "execution_count": 9
        }
      ]
    },
    {
      "cell_type": "code",
      "source": [
        "mean = X.describe().iloc[1]\n",
        "min =  X.describe().iloc[3]\n",
        "max =  X.describe().iloc[7]"
      ],
      "metadata": {
        "id": "njfD3zFNYrz9"
      },
      "execution_count": 10,
      "outputs": []
    },
    {
      "cell_type": "code",
      "source": [
        "x = [mean,min,max]\n",
        "x"
      ],
      "metadata": {
        "colab": {
          "base_uri": "https://localhost:8080/"
        },
        "id": "-J93dFwtaTTL",
        "outputId": "8c1c07c6-3665-4738-ff54-db39d908877b"
      },
      "execution_count": 11,
      "outputs": [
        {
          "output_type": "execute_result",
          "data": {
            "text/plain": [
              "[0      0.025111\n",
              " 1      0.025813\n",
              " 2      0.024400\n",
              " 3      0.025106\n",
              " 4      0.024145\n",
              "          ...   \n",
              " 225    0.034311\n",
              " 226    0.031896\n",
              " 227    0.032878\n",
              " 228    0.034118\n",
              " 229    0.031896\n",
              " Name: mean, Length: 230, dtype: float64, 0     -0.026893\n",
              " 1     -0.021074\n",
              " 2     -0.029054\n",
              " 3     -0.021758\n",
              " 4     -0.022622\n",
              "          ...   \n",
              " 225   -0.010830\n",
              " 226   -0.004494\n",
              " 227   -0.003721\n",
              " 228   -0.006268\n",
              " 229   -0.004494\n",
              " Name: min, Length: 230, dtype: float64, 0      3.7557\n",
              " 1      3.9877\n",
              " 2      3.9749\n",
              " 3      3.9205\n",
              " 4      3.7667\n",
              "         ...  \n",
              " 225    3.8405\n",
              " 226    3.7049\n",
              " 227    3.5905\n",
              " 228    3.9598\n",
              " 229    3.7049\n",
              " Name: max, Length: 230, dtype: float64]"
            ]
          },
          "metadata": {},
          "execution_count": 11
        }
      ]
    },
    {
      "cell_type": "code",
      "source": [
        "x = pd.DataFrame(x)\n",
        "x"
      ],
      "metadata": {
        "colab": {
          "base_uri": "https://localhost:8080/",
          "height": 237
        },
        "id": "Bmh8QhJranSm",
        "outputId": "65ef9083-df0b-4579-dee7-6f7a4bcb67a2"
      },
      "execution_count": 12,
      "outputs": [
        {
          "output_type": "execute_result",
          "data": {
            "text/plain": [
              "           0         1         2         3         4         5         6    \\\n",
              "mean  0.025111  0.025813  0.024400  0.025106  0.024145  0.023868  0.028022   \n",
              "min  -0.026893 -0.021074 -0.029054 -0.021758 -0.022622 -0.024228 -0.016639   \n",
              "max   3.755700  3.987700  3.974900  3.920500  3.766700  4.113400  3.541700   \n",
              "\n",
              "           7         8         9    ...       220       221       222  \\\n",
              "mean  0.027250  0.026872  0.028124  ...  0.030772  0.032996  0.033013   \n",
              "min  -0.025508 -0.026207 -0.020987  ... -0.006483 -0.007598 -0.007825   \n",
              "max   3.850600  3.731600  3.841300  ...  3.475200  3.811600  3.746700   \n",
              "\n",
              "           223       224       225       226       227       228       229  \n",
              "mean  0.035067  0.034949  0.034311  0.031896  0.032878  0.034118  0.031896  \n",
              "min  -0.010164 -0.009480 -0.010830 -0.004494 -0.003721 -0.006268 -0.004494  \n",
              "max   3.887000  3.645600  3.840500  3.704900  3.590500  3.959800  3.704900  \n",
              "\n",
              "[3 rows x 230 columns]"
            ],
            "text/html": [
              "\n",
              "  <div id=\"df-50cca15f-7c34-4e3c-8ea1-5f1b4631968a\">\n",
              "    <div class=\"colab-df-container\">\n",
              "      <div>\n",
              "<style scoped>\n",
              "    .dataframe tbody tr th:only-of-type {\n",
              "        vertical-align: middle;\n",
              "    }\n",
              "\n",
              "    .dataframe tbody tr th {\n",
              "        vertical-align: top;\n",
              "    }\n",
              "\n",
              "    .dataframe thead th {\n",
              "        text-align: right;\n",
              "    }\n",
              "</style>\n",
              "<table border=\"1\" class=\"dataframe\">\n",
              "  <thead>\n",
              "    <tr style=\"text-align: right;\">\n",
              "      <th></th>\n",
              "      <th>0</th>\n",
              "      <th>1</th>\n",
              "      <th>2</th>\n",
              "      <th>3</th>\n",
              "      <th>4</th>\n",
              "      <th>5</th>\n",
              "      <th>6</th>\n",
              "      <th>7</th>\n",
              "      <th>8</th>\n",
              "      <th>9</th>\n",
              "      <th>...</th>\n",
              "      <th>220</th>\n",
              "      <th>221</th>\n",
              "      <th>222</th>\n",
              "      <th>223</th>\n",
              "      <th>224</th>\n",
              "      <th>225</th>\n",
              "      <th>226</th>\n",
              "      <th>227</th>\n",
              "      <th>228</th>\n",
              "      <th>229</th>\n",
              "    </tr>\n",
              "  </thead>\n",
              "  <tbody>\n",
              "    <tr>\n",
              "      <th>mean</th>\n",
              "      <td>0.025111</td>\n",
              "      <td>0.025813</td>\n",
              "      <td>0.024400</td>\n",
              "      <td>0.025106</td>\n",
              "      <td>0.024145</td>\n",
              "      <td>0.023868</td>\n",
              "      <td>0.028022</td>\n",
              "      <td>0.027250</td>\n",
              "      <td>0.026872</td>\n",
              "      <td>0.028124</td>\n",
              "      <td>...</td>\n",
              "      <td>0.030772</td>\n",
              "      <td>0.032996</td>\n",
              "      <td>0.033013</td>\n",
              "      <td>0.035067</td>\n",
              "      <td>0.034949</td>\n",
              "      <td>0.034311</td>\n",
              "      <td>0.031896</td>\n",
              "      <td>0.032878</td>\n",
              "      <td>0.034118</td>\n",
              "      <td>0.031896</td>\n",
              "    </tr>\n",
              "    <tr>\n",
              "      <th>min</th>\n",
              "      <td>-0.026893</td>\n",
              "      <td>-0.021074</td>\n",
              "      <td>-0.029054</td>\n",
              "      <td>-0.021758</td>\n",
              "      <td>-0.022622</td>\n",
              "      <td>-0.024228</td>\n",
              "      <td>-0.016639</td>\n",
              "      <td>-0.025508</td>\n",
              "      <td>-0.026207</td>\n",
              "      <td>-0.020987</td>\n",
              "      <td>...</td>\n",
              "      <td>-0.006483</td>\n",
              "      <td>-0.007598</td>\n",
              "      <td>-0.007825</td>\n",
              "      <td>-0.010164</td>\n",
              "      <td>-0.009480</td>\n",
              "      <td>-0.010830</td>\n",
              "      <td>-0.004494</td>\n",
              "      <td>-0.003721</td>\n",
              "      <td>-0.006268</td>\n",
              "      <td>-0.004494</td>\n",
              "    </tr>\n",
              "    <tr>\n",
              "      <th>max</th>\n",
              "      <td>3.755700</td>\n",
              "      <td>3.987700</td>\n",
              "      <td>3.974900</td>\n",
              "      <td>3.920500</td>\n",
              "      <td>3.766700</td>\n",
              "      <td>4.113400</td>\n",
              "      <td>3.541700</td>\n",
              "      <td>3.850600</td>\n",
              "      <td>3.731600</td>\n",
              "      <td>3.841300</td>\n",
              "      <td>...</td>\n",
              "      <td>3.475200</td>\n",
              "      <td>3.811600</td>\n",
              "      <td>3.746700</td>\n",
              "      <td>3.887000</td>\n",
              "      <td>3.645600</td>\n",
              "      <td>3.840500</td>\n",
              "      <td>3.704900</td>\n",
              "      <td>3.590500</td>\n",
              "      <td>3.959800</td>\n",
              "      <td>3.704900</td>\n",
              "    </tr>\n",
              "  </tbody>\n",
              "</table>\n",
              "<p>3 rows × 230 columns</p>\n",
              "</div>\n",
              "      <button class=\"colab-df-convert\" onclick=\"convertToInteractive('df-50cca15f-7c34-4e3c-8ea1-5f1b4631968a')\"\n",
              "              title=\"Convert this dataframe to an interactive table.\"\n",
              "              style=\"display:none;\">\n",
              "        \n",
              "  <svg xmlns=\"http://www.w3.org/2000/svg\" height=\"24px\"viewBox=\"0 0 24 24\"\n",
              "       width=\"24px\">\n",
              "    <path d=\"M0 0h24v24H0V0z\" fill=\"none\"/>\n",
              "    <path d=\"M18.56 5.44l.94 2.06.94-2.06 2.06-.94-2.06-.94-.94-2.06-.94 2.06-2.06.94zm-11 1L8.5 8.5l.94-2.06 2.06-.94-2.06-.94L8.5 2.5l-.94 2.06-2.06.94zm10 10l.94 2.06.94-2.06 2.06-.94-2.06-.94-.94-2.06-.94 2.06-2.06.94z\"/><path d=\"M17.41 7.96l-1.37-1.37c-.4-.4-.92-.59-1.43-.59-.52 0-1.04.2-1.43.59L10.3 9.45l-7.72 7.72c-.78.78-.78 2.05 0 2.83L4 21.41c.39.39.9.59 1.41.59.51 0 1.02-.2 1.41-.59l7.78-7.78 2.81-2.81c.8-.78.8-2.07 0-2.86zM5.41 20L4 18.59l7.72-7.72 1.47 1.35L5.41 20z\"/>\n",
              "  </svg>\n",
              "      </button>\n",
              "      \n",
              "  <style>\n",
              "    .colab-df-container {\n",
              "      display:flex;\n",
              "      flex-wrap:wrap;\n",
              "      gap: 12px;\n",
              "    }\n",
              "\n",
              "    .colab-df-convert {\n",
              "      background-color: #E8F0FE;\n",
              "      border: none;\n",
              "      border-radius: 50%;\n",
              "      cursor: pointer;\n",
              "      display: none;\n",
              "      fill: #1967D2;\n",
              "      height: 32px;\n",
              "      padding: 0 0 0 0;\n",
              "      width: 32px;\n",
              "    }\n",
              "\n",
              "    .colab-df-convert:hover {\n",
              "      background-color: #E2EBFA;\n",
              "      box-shadow: 0px 1px 2px rgba(60, 64, 67, 0.3), 0px 1px 3px 1px rgba(60, 64, 67, 0.15);\n",
              "      fill: #174EA6;\n",
              "    }\n",
              "\n",
              "    [theme=dark] .colab-df-convert {\n",
              "      background-color: #3B4455;\n",
              "      fill: #D2E3FC;\n",
              "    }\n",
              "\n",
              "    [theme=dark] .colab-df-convert:hover {\n",
              "      background-color: #434B5C;\n",
              "      box-shadow: 0px 1px 3px 1px rgba(0, 0, 0, 0.15);\n",
              "      filter: drop-shadow(0px 1px 2px rgba(0, 0, 0, 0.3));\n",
              "      fill: #FFFFFF;\n",
              "    }\n",
              "  </style>\n",
              "\n",
              "      <script>\n",
              "        const buttonEl =\n",
              "          document.querySelector('#df-50cca15f-7c34-4e3c-8ea1-5f1b4631968a button.colab-df-convert');\n",
              "        buttonEl.style.display =\n",
              "          google.colab.kernel.accessAllowed ? 'block' : 'none';\n",
              "\n",
              "        async function convertToInteractive(key) {\n",
              "          const element = document.querySelector('#df-50cca15f-7c34-4e3c-8ea1-5f1b4631968a');\n",
              "          const dataTable =\n",
              "            await google.colab.kernel.invokeFunction('convertToInteractive',\n",
              "                                                     [key], {});\n",
              "          if (!dataTable) return;\n",
              "\n",
              "          const docLinkHtml = 'Like what you see? Visit the ' +\n",
              "            '<a target=\"_blank\" href=https://colab.research.google.com/notebooks/data_table.ipynb>data table notebook</a>'\n",
              "            + ' to learn more about interactive tables.';\n",
              "          element.innerHTML = '';\n",
              "          dataTable['output_type'] = 'display_data';\n",
              "          await google.colab.output.renderOutput(dataTable, element);\n",
              "          const docLink = document.createElement('div');\n",
              "          docLink.innerHTML = docLinkHtml;\n",
              "          element.appendChild(docLink);\n",
              "        }\n",
              "      </script>\n",
              "    </div>\n",
              "  </div>\n",
              "  "
            ]
          },
          "metadata": {},
          "execution_count": 12
        }
      ]
    },
    {
      "cell_type": "code",
      "source": [
        "x = np.array(x).T"
      ],
      "metadata": {
        "id": "AJoFGXd_awTG"
      },
      "execution_count": 13,
      "outputs": []
    },
    {
      "cell_type": "code",
      "source": [
        "x = pd.DataFrame(x)\n",
        "x"
      ],
      "metadata": {
        "colab": {
          "base_uri": "https://localhost:8080/",
          "height": 423
        },
        "id": "ki9ePt11bGsp",
        "outputId": "8887939b-4773-4820-a6d3-7113320fcdf9"
      },
      "execution_count": 14,
      "outputs": [
        {
          "output_type": "execute_result",
          "data": {
            "text/plain": [
              "            0         1       2\n",
              "0    0.025111 -0.026893  3.7557\n",
              "1    0.025813 -0.021074  3.9877\n",
              "2    0.024400 -0.029054  3.9749\n",
              "3    0.025106 -0.021758  3.9205\n",
              "4    0.024145 -0.022622  3.7667\n",
              "..        ...       ...     ...\n",
              "225  0.034311 -0.010830  3.8405\n",
              "226  0.031896 -0.004494  3.7049\n",
              "227  0.032878 -0.003721  3.5905\n",
              "228  0.034118 -0.006268  3.9598\n",
              "229  0.031896 -0.004494  3.7049\n",
              "\n",
              "[230 rows x 3 columns]"
            ],
            "text/html": [
              "\n",
              "  <div id=\"df-b8c4d5a8-64b4-4b32-a7f3-273f5b2c0e33\">\n",
              "    <div class=\"colab-df-container\">\n",
              "      <div>\n",
              "<style scoped>\n",
              "    .dataframe tbody tr th:only-of-type {\n",
              "        vertical-align: middle;\n",
              "    }\n",
              "\n",
              "    .dataframe tbody tr th {\n",
              "        vertical-align: top;\n",
              "    }\n",
              "\n",
              "    .dataframe thead th {\n",
              "        text-align: right;\n",
              "    }\n",
              "</style>\n",
              "<table border=\"1\" class=\"dataframe\">\n",
              "  <thead>\n",
              "    <tr style=\"text-align: right;\">\n",
              "      <th></th>\n",
              "      <th>0</th>\n",
              "      <th>1</th>\n",
              "      <th>2</th>\n",
              "    </tr>\n",
              "  </thead>\n",
              "  <tbody>\n",
              "    <tr>\n",
              "      <th>0</th>\n",
              "      <td>0.025111</td>\n",
              "      <td>-0.026893</td>\n",
              "      <td>3.7557</td>\n",
              "    </tr>\n",
              "    <tr>\n",
              "      <th>1</th>\n",
              "      <td>0.025813</td>\n",
              "      <td>-0.021074</td>\n",
              "      <td>3.9877</td>\n",
              "    </tr>\n",
              "    <tr>\n",
              "      <th>2</th>\n",
              "      <td>0.024400</td>\n",
              "      <td>-0.029054</td>\n",
              "      <td>3.9749</td>\n",
              "    </tr>\n",
              "    <tr>\n",
              "      <th>3</th>\n",
              "      <td>0.025106</td>\n",
              "      <td>-0.021758</td>\n",
              "      <td>3.9205</td>\n",
              "    </tr>\n",
              "    <tr>\n",
              "      <th>4</th>\n",
              "      <td>0.024145</td>\n",
              "      <td>-0.022622</td>\n",
              "      <td>3.7667</td>\n",
              "    </tr>\n",
              "    <tr>\n",
              "      <th>...</th>\n",
              "      <td>...</td>\n",
              "      <td>...</td>\n",
              "      <td>...</td>\n",
              "    </tr>\n",
              "    <tr>\n",
              "      <th>225</th>\n",
              "      <td>0.034311</td>\n",
              "      <td>-0.010830</td>\n",
              "      <td>3.8405</td>\n",
              "    </tr>\n",
              "    <tr>\n",
              "      <th>226</th>\n",
              "      <td>0.031896</td>\n",
              "      <td>-0.004494</td>\n",
              "      <td>3.7049</td>\n",
              "    </tr>\n",
              "    <tr>\n",
              "      <th>227</th>\n",
              "      <td>0.032878</td>\n",
              "      <td>-0.003721</td>\n",
              "      <td>3.5905</td>\n",
              "    </tr>\n",
              "    <tr>\n",
              "      <th>228</th>\n",
              "      <td>0.034118</td>\n",
              "      <td>-0.006268</td>\n",
              "      <td>3.9598</td>\n",
              "    </tr>\n",
              "    <tr>\n",
              "      <th>229</th>\n",
              "      <td>0.031896</td>\n",
              "      <td>-0.004494</td>\n",
              "      <td>3.7049</td>\n",
              "    </tr>\n",
              "  </tbody>\n",
              "</table>\n",
              "<p>230 rows × 3 columns</p>\n",
              "</div>\n",
              "      <button class=\"colab-df-convert\" onclick=\"convertToInteractive('df-b8c4d5a8-64b4-4b32-a7f3-273f5b2c0e33')\"\n",
              "              title=\"Convert this dataframe to an interactive table.\"\n",
              "              style=\"display:none;\">\n",
              "        \n",
              "  <svg xmlns=\"http://www.w3.org/2000/svg\" height=\"24px\"viewBox=\"0 0 24 24\"\n",
              "       width=\"24px\">\n",
              "    <path d=\"M0 0h24v24H0V0z\" fill=\"none\"/>\n",
              "    <path d=\"M18.56 5.44l.94 2.06.94-2.06 2.06-.94-2.06-.94-.94-2.06-.94 2.06-2.06.94zm-11 1L8.5 8.5l.94-2.06 2.06-.94-2.06-.94L8.5 2.5l-.94 2.06-2.06.94zm10 10l.94 2.06.94-2.06 2.06-.94-2.06-.94-.94-2.06-.94 2.06-2.06.94z\"/><path d=\"M17.41 7.96l-1.37-1.37c-.4-.4-.92-.59-1.43-.59-.52 0-1.04.2-1.43.59L10.3 9.45l-7.72 7.72c-.78.78-.78 2.05 0 2.83L4 21.41c.39.39.9.59 1.41.59.51 0 1.02-.2 1.41-.59l7.78-7.78 2.81-2.81c.8-.78.8-2.07 0-2.86zM5.41 20L4 18.59l7.72-7.72 1.47 1.35L5.41 20z\"/>\n",
              "  </svg>\n",
              "      </button>\n",
              "      \n",
              "  <style>\n",
              "    .colab-df-container {\n",
              "      display:flex;\n",
              "      flex-wrap:wrap;\n",
              "      gap: 12px;\n",
              "    }\n",
              "\n",
              "    .colab-df-convert {\n",
              "      background-color: #E8F0FE;\n",
              "      border: none;\n",
              "      border-radius: 50%;\n",
              "      cursor: pointer;\n",
              "      display: none;\n",
              "      fill: #1967D2;\n",
              "      height: 32px;\n",
              "      padding: 0 0 0 0;\n",
              "      width: 32px;\n",
              "    }\n",
              "\n",
              "    .colab-df-convert:hover {\n",
              "      background-color: #E2EBFA;\n",
              "      box-shadow: 0px 1px 2px rgba(60, 64, 67, 0.3), 0px 1px 3px 1px rgba(60, 64, 67, 0.15);\n",
              "      fill: #174EA6;\n",
              "    }\n",
              "\n",
              "    [theme=dark] .colab-df-convert {\n",
              "      background-color: #3B4455;\n",
              "      fill: #D2E3FC;\n",
              "    }\n",
              "\n",
              "    [theme=dark] .colab-df-convert:hover {\n",
              "      background-color: #434B5C;\n",
              "      box-shadow: 0px 1px 3px 1px rgba(0, 0, 0, 0.15);\n",
              "      filter: drop-shadow(0px 1px 2px rgba(0, 0, 0, 0.3));\n",
              "      fill: #FFFFFF;\n",
              "    }\n",
              "  </style>\n",
              "\n",
              "      <script>\n",
              "        const buttonEl =\n",
              "          document.querySelector('#df-b8c4d5a8-64b4-4b32-a7f3-273f5b2c0e33 button.colab-df-convert');\n",
              "        buttonEl.style.display =\n",
              "          google.colab.kernel.accessAllowed ? 'block' : 'none';\n",
              "\n",
              "        async function convertToInteractive(key) {\n",
              "          const element = document.querySelector('#df-b8c4d5a8-64b4-4b32-a7f3-273f5b2c0e33');\n",
              "          const dataTable =\n",
              "            await google.colab.kernel.invokeFunction('convertToInteractive',\n",
              "                                                     [key], {});\n",
              "          if (!dataTable) return;\n",
              "\n",
              "          const docLinkHtml = 'Like what you see? Visit the ' +\n",
              "            '<a target=\"_blank\" href=https://colab.research.google.com/notebooks/data_table.ipynb>data table notebook</a>'\n",
              "            + ' to learn more about interactive tables.';\n",
              "          element.innerHTML = '';\n",
              "          dataTable['output_type'] = 'display_data';\n",
              "          await google.colab.output.renderOutput(dataTable, element);\n",
              "          const docLink = document.createElement('div');\n",
              "          docLink.innerHTML = docLinkHtml;\n",
              "          element.appendChild(docLink);\n",
              "        }\n",
              "      </script>\n",
              "    </div>\n",
              "  </div>\n",
              "  "
            ]
          },
          "metadata": {},
          "execution_count": 14
        }
      ]
    },
    {
      "cell_type": "code",
      "source": [],
      "metadata": {
        "id": "9CJyDI5bbKT-"
      },
      "execution_count": 14,
      "outputs": []
    },
    {
      "cell_type": "code",
      "source": [
        "from sklearn.model_selection import train_test_split\n",
        "x_train, x_test, y_train, y_test = train_test_split(x, y, test_size = 0.25, random_state = 0)\n"
      ],
      "metadata": {
        "id": "W9B74D3ebxow"
      },
      "execution_count": 15,
      "outputs": []
    },
    {
      "cell_type": "code",
      "source": [
        "from sklearn.linear_model import LogisticRegression\n",
        "classifier = LogisticRegression(random_state=0)\n",
        "classifier.fit(x_train, y_train)\n"
      ],
      "metadata": {
        "colab": {
          "base_uri": "https://localhost:8080/"
        },
        "id": "IEK9MZV8b-uf",
        "outputId": "a4b599fc-62b9-48f4-953d-af1f02d91994"
      },
      "execution_count": 16,
      "outputs": [
        {
          "output_type": "execute_result",
          "data": {
            "text/plain": [
              "LogisticRegression(random_state=0)"
            ]
          },
          "metadata": {},
          "execution_count": 16
        }
      ]
    },
    {
      "cell_type": "code",
      "source": [
        "y_pred = classifier.predict(x_test)"
      ],
      "metadata": {
        "id": "4S5vha9-cFgV"
      },
      "execution_count": 17,
      "outputs": []
    },
    {
      "cell_type": "code",
      "source": [
        "from sklearn.metrics import accuracy_score\n",
        "print (\"Accuracy : \", accuracy_score(y_test, y_pred))\n"
      ],
      "metadata": {
        "colab": {
          "base_uri": "https://localhost:8080/"
        },
        "id": "DsfflczfcLPp",
        "outputId": "4e3597fc-feb8-49fc-e5a0-f495404762d7"
      },
      "execution_count": 18,
      "outputs": [
        {
          "output_type": "stream",
          "name": "stdout",
          "text": [
            "Accuracy :  0.6551724137931034\n"
          ]
        }
      ]
    },
    {
      "cell_type": "code",
      "source": [
        "from scipy.stats import skew\n",
        "skew = skew(dataset, axis=0, bias=True)"
      ],
      "metadata": {
        "id": "cKynWP-YcPzF"
      },
      "execution_count": 20,
      "outputs": []
    },
    {
      "cell_type": "code",
      "source": [
        "from scipy.stats import kurtosis\n",
        "kurtosis = kurtosis(dataset, axis=0, bias=True)"
      ],
      "metadata": {
        "id": "_Qyoswzpf2vq"
      },
      "execution_count": 27,
      "outputs": []
    },
    {
      "cell_type": "code",
      "source": [
        "df = [mean,max,min,skew,kurtosis]\n"
      ],
      "metadata": {
        "id": "ZkyALKYueVNd"
      },
      "execution_count": 31,
      "outputs": []
    },
    {
      "cell_type": "code",
      "source": [
        "df = np.array(df).T"
      ],
      "metadata": {
        "id": "0J4tZLw4fW2t"
      },
      "execution_count": 33,
      "outputs": []
    },
    {
      "cell_type": "code",
      "source": [
        "df = pd.DataFrame(df)"
      ],
      "metadata": {
        "id": "aLzYN4DufEbE"
      },
      "execution_count": 34,
      "outputs": []
    },
    {
      "cell_type": "code",
      "source": [
        "from sklearn.model_selection import train_test_split\n",
        "x_train, x_test, y_train, y_test = train_test_split(df, y, test_size = 0.2, random_state = 0)\n"
      ],
      "metadata": {
        "id": "SZ6bVKLTe3F9"
      },
      "execution_count": 38,
      "outputs": []
    },
    {
      "cell_type": "code",
      "source": [
        "from sklearn.linear_model import LogisticRegression\n",
        "classifier = LogisticRegression(random_state=0)\n",
        "classifier.fit(x_train, y_train)\n"
      ],
      "metadata": {
        "colab": {
          "base_uri": "https://localhost:8080/"
        },
        "id": "Rw9yjtdhe8Td",
        "outputId": "8274f11f-8a60-44e4-efd4-2db96c0811fe"
      },
      "execution_count": 39,
      "outputs": [
        {
          "output_type": "execute_result",
          "data": {
            "text/plain": [
              "LogisticRegression(random_state=0)"
            ]
          },
          "metadata": {},
          "execution_count": 39
        }
      ]
    },
    {
      "cell_type": "code",
      "source": [
        "y_pred = classifier.predict(x_test)\n",
        "from sklearn.metrics import accuracy_score\n",
        "print (\"Accuracy : \", accuracy_score(y_test, y_pred))\n"
      ],
      "metadata": {
        "colab": {
          "base_uri": "https://localhost:8080/"
        },
        "id": "cWlm0Z19ggvg",
        "outputId": "86b48b0f-6852-42d0-ddb9-561735fd2415"
      },
      "execution_count": 40,
      "outputs": [
        {
          "output_type": "stream",
          "name": "stdout",
          "text": [
            "Accuracy :  0.717391304347826\n"
          ]
        }
      ]
    },
    {
      "cell_type": "code",
      "source": [
        "from sklearn.model_selection import cross_val_score\n",
        "accuracies = cross_val_score(estimator = classifier, X = x_train, y = y_train, cv = 10)\n",
        "print(\"Accuracy: {:.2f} %\".format(accuracies.mean()*100))\n",
        "print(\"Standard Deviation: {:.2f} %\".format(accuracies.std()*100))"
      ],
      "metadata": {
        "colab": {
          "base_uri": "https://localhost:8080/"
        },
        "id": "CzTw_T5KgplI",
        "outputId": "abd9da84-298c-4265-904e-d39416ba22cd"
      },
      "execution_count": 43,
      "outputs": [
        {
          "output_type": "stream",
          "name": "stdout",
          "text": [
            "Accuracy: 71.96 %\n",
            "Standard Deviation: 10.48 %\n"
          ]
        }
      ]
    },
    {
      "cell_type": "code",
      "source": [],
      "metadata": {
        "id": "Y8U03UtuiIGE"
      },
      "execution_count": null,
      "outputs": []
    }
  ]
}